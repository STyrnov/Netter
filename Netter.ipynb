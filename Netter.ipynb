{
 "cells": [
  {
   "cell_type": "markdown",
   "metadata": {},
   "source": [
    "Setting up parameters"
   ]
  },
  {
   "cell_type": "code",
   "execution_count": 47,
   "metadata": {
    "collapsed": true
   },
   "outputs": [],
   "source": [
    "FilesPath = 'C:\\\\Users\\\\styrn\\\\Documents\\\\GitHub\\\\Netter\\\\L2 Data'\n",
    "TimeFrame = '5Min'\t#Таймфрейм построения графика\n",
    "Period = 24*12\t\t#Анализируемый период\n",
    "SmoothATR = 0.9\t\t#Множитель \"загрубления\" ценовых уровней\n",
    "AspectVA = 10.0\t\t#Величина VAL | VAH в % от среднего объема торгов на уровне\n",
    "\t\t#Минимальный шаг сетки ордеров\n",
    "\t\t#Размер SL и TP как % от волатильности\n",
    "\t\t#Гибридный/трендовый/откатный режим."
   ]
  },
  {
   "cell_type": "markdown",
   "metadata": {},
   "source": [
    "Reading data from file with msgpackL2 package. And extracting L1 data as footprint."
   ]
  },
  {
   "cell_type": "code",
   "execution_count": null,
   "metadata": {
    "scrolled": false
   },
   "outputs": [
    {
     "name": "stdout",
     "output_type": "stream",
     "text": [
      "Files in  C:\\Users\\styrn\\Documents\\GitHub\\Netter\\L2 Data ['20170811', '20170812', '20170813', '20170814', '20170815']\n",
      "Processing file 20170811\n",
      "Processing file 20170812\n",
      "Processing file 20170813\n",
      "Processing file 20170814\n",
      "Processing file 20170815\n"
     ]
    }
   ],
   "source": [
    "import numpy\n",
    "from datetime import datetime\n",
    "from os import listdir\n",
    "import zlib\n",
    "import msgpackL2\n",
    "\n",
    "# decompressing and reading data from file\n",
    "filelist = listdir(FilesPath)\n",
    "print('Files in ', FilesPath, filelist)\n",
    "\n",
    "# transmitting L2 data into footprint: datetime, price, traded_volume\n",
    "footprint = numpy.empty(shape=(0,3))\n",
    "\n",
    "for file in filelist:\n",
    "    print('Processing file', file)\n",
    "    data =  open(FilesPath+'\\\\'+file, 'rb').read()\n",
    "    messages =  msgpackL2.unpackMsgs(zlib.decompress(data, 16+zlib.MAX_WBITS))\n",
    "\n",
    "    for message in messages:   \n",
    "        if message[4]:\n",
    "            for trade in message[4]:\n",
    "                footprint = numpy.vstack((footprint,  [datetime.fromtimestamp(message[0]), trade[0], trade[1]]))\n",
    "\n",
    "print('Footprint shape', footprint.shape)"
   ]
  },
  {
   "cell_type": "markdown",
   "metadata": {},
   "source": [
    "Data manipulation. Constructing ohlc dataframe, horizontal volume histogram, and net levels."
   ]
  },
  {
   "cell_type": "code",
   "execution_count": 45,
   "metadata": {},
   "outputs": [
    {
     "name": "stdout",
     "output_type": "stream",
     "text": [
      "Base volume 75.4222375821\n",
      "               vol VALH\n",
      "prc                    \n",
      "4399.9  155.665410    b\n",
      "4419.9  107.997114    l\n",
      "4420.0  109.779323    h\n",
      "4500.0  181.468892    l\n",
      "4500.1  172.641538    h\n",
      "4530.0  129.927579    b\n",
      "4549.9   75.452013    l\n",
      "4550.0  176.246091    h\n",
      "4559.0   91.719592    b\n",
      "4560.0  119.107749    b\n",
      "4570.0   77.557590    b\n",
      "4599.9   96.061596    b\n",
      "4610.0  124.077951    b\n",
      "4620.0  147.457668    b\n",
      "4680.0   91.610746    b\n",
      "4690.0   81.104130    b\n",
      "4695.0   82.327040    b\n",
      "4710.9  107.332670    l\n",
      "4711.0  176.669275    h\n",
      "4720.0  160.849542    b\n",
      "4740.0  268.843665    b\n",
      "4749.9  102.490849    l\n",
      "4750.0  283.045225    h\n",
      "4751.8  138.722626    l\n",
      "4751.9   75.914540    h\n",
      "4765.0   80.592112    b\n",
      "4770.0  105.230938    b\n",
      "4775.0   85.892499    b\n",
      "4788.0  286.141148    b\n",
      "4789.0   79.240978    b\n",
      "4790.0   80.968416    b\n",
      "4799.9  143.384611    l\n"
     ]
    }
   ],
   "source": [
    "import numpy\n",
    "import pandas\n",
    "\n",
    "# transmitting data into ohlc candlestick struct: datetime, open_price, high, low, close, traded_volume\n",
    "df = pandas.DataFrame(abs(footprint[0:,1:]), footprint[0:,0], ['prc','vol'])\n",
    "ohlc = df.groupby(pandas.TimeGrouper(freq=TimeFrame)).agg({'prc':{'first','last','min','max'},'vol':'sum'})\n",
    "# and horizontal volume distribution\n",
    "hor_vol = df.groupby('prc').agg({'vol':'sum'})\n",
    "\n",
    "# finding average volume by level, with net factor (adjusting parameter)\n",
    "base_vol = hor_vol.mean().vol*AspectVA;\n",
    "\n",
    "# slicing net_levels by VAL, VAH, VAB where hor_vol > base_vol\n",
    "net_levels = hor_vol[hor_vol.gt(base_vol).all(axis=1)]\n",
    "net_levels = net_levels.assign(VALH='n')\n",
    "\n",
    "for level in net_levels.index:\n",
    "    if base_vol > hor_vol.shift(1).loc[level,'vol']: # vol > vol_at_prev_level => VAL bond     \n",
    "        net_levels.loc[level,'VALH'] = 'l'\n",
    "    if base_vol > hor_vol.shift(-1).loc[level,'vol']: # vol > vol_at_next_level => VAH bond\n",
    "        net_levels.loc[level,'VALH'] = 'h'\n",
    "    if base_vol > hor_vol.shift(1).loc[level,'vol'] and base_vol > hor_vol.shift(-1).loc[level,'vol']: # VAB Both-side bond\n",
    "        net_levels.loc[level,'VALH'] = 'b'    \n",
    "net_levels = net_levels.drop(net_levels[net_levels.VALH =='n'].index)\n",
    "        \n",
    "print('Base volume',base_vol)\n",
    "print(net_levels)\n",
    "\n",
    "# calculating ATR \n",
    "atr = pandas.DataFrame(index=ohlc.index, columns=['max_min','max_cls','min_cls'])\n",
    "atr['max_min'] = abs (ohlc.loc[:,'prc'].loc[:,'max'] - ohlc.loc[:,'prc'].loc[:,'min'])\n",
    "atr['max_cls'] = abs (ohlc.loc[:,'prc'].loc[:,'max'] - ohlc.loc[:,'prc'].loc[:,'last'].shift())\n",
    "atr['min_cls'] = abs (ohlc.loc[:,'prc'].loc[:,'min'] - ohlc.loc[:,'prc'].loc[:,'last'].shift())\n",
    "ohlc['ATR'] = atr[['max_min', 'max_cls', 'min_cls']].max(axis=1)\n",
    "#print(ohlc)\n",
    "\n",
    "# smoothing it by EWM, SmoothATR - adjustable\n",
    "ohlc['smATR'] = ohlc['ATR'].ewm(com=SmoothATR/(1.0-SmoothATR),adjust=False,ignore_na=False).mean()"
   ]
  },
  {
   "cell_type": "markdown",
   "metadata": {},
   "source": [
    "Plotting result"
   ]
  },
  {
   "cell_type": "code",
   "execution_count": 46,
   "metadata": {},
   "outputs": [
    {
     "name": "stdout",
     "output_type": "stream",
     "text": [
      "This is the format of your plot grid:\n",
      "[ (1,1) x1,y1 ]  [ (1,2) x2,y1 ]\n",
      "\n"
     ]
    },
    {
     "data": {
      "text/html": [
       "<iframe id=\"igraph\" scrolling=\"no\" style=\"border:none;\" seamless=\"seamless\" src=\"https://plot.ly/~styrnov/2.embed\" height=\"800px\" width=\"100%\"></iframe>"
      ],
      "text/plain": [
       "<plotly.tools.PlotlyDisplay object>"
      ]
     },
     "execution_count": 46,
     "metadata": {},
     "output_type": "execute_result"
    }
   ],
   "source": [
    "from plotly import tools\n",
    "import plotly.plotly as py\n",
    "import plotly.graph_objs as go\n",
    "\n",
    "trace1 = go.Bar(x=hor_vol['vol'], y=hor_vol.index, orientation = 'h')\n",
    "\n",
    "trace2 = go.Candlestick(open = ohlc.loc[:,'prc'].loc[:,'first'], \n",
    "                        high = ohlc.loc[:,'prc'].loc[:,'max'], \n",
    "                        low = ohlc.loc[:,'prc'].loc[:,'min'], \n",
    "                        close = ohlc.loc[:,'prc'].loc[:,'last'],\n",
    "                        x = ohlc.index)\n",
    "trace3 = go.Scatter(x = ohlc.index, y = ohlc['ATR']+hor_vol.index.min()-ohlc['ATR'].max())\n",
    "trace4 = go.Scatter(x = ohlc.index, y = ohlc['smATR']+hor_vol.index.min()-ohlc['ATR'].max())\n",
    "\n",
    "# formatting subplots\n",
    "fig = tools.make_subplots(rows=1, cols=2, shared_yaxes=True)\n",
    "fig.append_trace(trace1, 1, 1)\n",
    "fig.append_trace(trace2, 1, 2)\n",
    "fig.append_trace(trace3, 1, 2)\n",
    "fig.append_trace(trace4, 1, 2)\n",
    "\n",
    "fig['layout'].update(showlegend=False, xaxis=dict(rangeslider=dict(visible = False),showline=True,domain=[0, 0.3]), \n",
    "                     xaxis2=dict(showgrid=True,showline=True,domain=[0.3, 1]), yaxis=dict(showgrid=True), height=800)\n",
    "\n",
    "# adding net levels on candlestick\n",
    "fig['layout']['shapes'].append(  {\n",
    "                            'xref':'x1', 'yref':'y1',\n",
    "                            'type': 'line',\n",
    "                            'x0': base_vol, 'y0': hor_vol.index.min(), \n",
    "                            'x1': base_vol, 'y1': hor_vol.index.max(),\n",
    "                            'line': {\n",
    "                                'color': 'rgb(55, 55, 55)',\n",
    "                                'width': 1,\n",
    "                                'dash': 'dot'\n",
    "                            }\n",
    "                        })\n",
    "\n",
    "# adding net levels on candlestick\n",
    "level_colors = {\n",
    "    'h' : 'rgb(55, 255, 55)',\n",
    "    'l' : 'rgb(255, 55, 55)',\n",
    "    'b' : 'rgb(55, 55, 255)',\n",
    "    'n' : 'rgb(55, 55, 55)',\n",
    "}\n",
    "\n",
    "for level in net_levels.index.values:    \n",
    "    fig['layout']['shapes'].append(\n",
    "                            {\n",
    "                                'xref':'x2', 'yref':'y2',\n",
    "                                'type': 'line',\n",
    "                                'x0': ohlc.index.min(), 'y0': level, \n",
    "                                'x1': ohlc.index.max(), 'y1': level,\n",
    "                                'line': {\n",
    "                                    'color': level_colors[net_levels.loc[level,'VALH']],\n",
    "                                    'width': 1,\n",
    "                                    'dash': 'dot'\n",
    "                                }\n",
    "                            })\n",
    "\n",
    "py.iplot(fig, filename='netter')\n",
    "\n",
    "#py.iplot(dict(data=[trace3]), filename='netter_ATR')\n"
   ]
  }
 ],
 "metadata": {
  "kernelspec": {
   "display_name": "Python 3",
   "language": "python",
   "name": "python3"
  },
  "language_info": {
   "codemirror_mode": {
    "name": "ipython",
    "version": 3
   },
   "file_extension": ".py",
   "mimetype": "text/x-python",
   "name": "python",
   "nbconvert_exporter": "python",
   "pygments_lexer": "ipython3",
   "version": "3.6.2"
  }
 },
 "nbformat": 4,
 "nbformat_minor": 2
}
