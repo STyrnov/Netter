{
 "cells": [
  {
   "cell_type": "markdown",
   "metadata": {},
   "source": [
    "Reading data from file with msgpackL2 package. And extracting L1 data as footprint."
   ]
  },
  {
   "cell_type": "code",
   "execution_count": 8,
   "metadata": {
    "scrolled": false
   },
   "outputs": [
    {
     "name": "stdout",
     "output_type": "stream",
     "text": [
      "Footprint shape (3146, 3)\n"
     ]
    }
   ],
   "source": [
    "import numpy\n",
    "from datetime import datetime\n",
    "import zlib\n",
    "import msgpackL2\n",
    "\n",
    "# decompressing and reading data from file\n",
    "filename = 'Bitfinex\\\\BTCUSD\\\\L2\\\\20170823'\n",
    "data =  open(filename, 'rb').read()\n",
    "messages =  msgpackL2.unpackMsgs(zlib.decompress(data, 16+zlib.MAX_WBITS))\n",
    "\n",
    "# transmitting L2 data into footprint: datetime, price, traded_volume\n",
    "footprint = numpy.empty(shape=(0,3))\n",
    "\n",
    "line = 0;\n",
    "for message in messages:   \n",
    "    if message[4]:\n",
    "        for trade in message[4]:\n",
    "            footprint = numpy.vstack((footprint,  [datetime.fromtimestamp(message[0]), trade[0], trade[1]]))\n",
    "\n",
    "print('Footprint shape', footprint.shape)\n",
    "#print(footprint)"
   ]
  },
  {
   "cell_type": "markdown",
   "metadata": {},
   "source": [
    "Data manipulation. Constructing ohlc dataframe, horizontal volume, and base net levels."
   ]
  },
  {
   "cell_type": "code",
   "execution_count": 12,
   "metadata": {},
   "outputs": [
    {
     "name": "stdout",
     "output_type": "stream",
     "text": [
      "prc\n",
      "4060.50000     0.275029\n",
      "4060.60000     3.287331\n",
      "4060.70000    29.930578\n",
      "4060.73147     0.139128\n",
      "4060.80000    26.267903\n",
      "4060.90000     4.118698\n",
      "4061.00000     3.576426\n",
      "Name: vol, dtype: float64\n",
      "Base volume 23.2393665209\n",
      "               vol VALH\n",
      "prc                    \n",
      "4060.7   29.930578    b\n",
      "4060.8   26.267903    b\n",
      "4068.2   24.130076    b\n",
      "4070.0   27.697806    b\n",
      "4077.0   24.234743    b\n",
      "4094.0  101.122359    b\n"
     ]
    }
   ],
   "source": [
    "import numpy\n",
    "import pandas\n",
    "\n",
    "# transmitting data into ohlc candlestick struct: datetime, open_price, high, low, close, traded_volume\n",
    "df = pandas.DataFrame(abs(footprint[0:,1:]), footprint[0:,0], ['prc','vol'])\n",
    "ohlc = df.groupby(pandas.TimeGrouper(freq='5Min')).agg({'prc':{'first','last','min','max'},'vol':'sum'})\n",
    "# and horizontal volume distribution\n",
    "hor_vol = df.groupby('prc').agg({'vol':'sum'})\n",
    "\n",
    "# finding average volume by level, with net factor (adjusting parameter)\n",
    "base_vol = hor_vol.mean().vol*7;\n",
    "\n",
    "# slicing net_levels by VAL, VAH, VAB where hor_vol > base_vol\n",
    "net_levels = hor_vol[hor_vol.gt(base_vol).all(axis=1)]\n",
    "net_levels = net_levels.assign(VALH='n')\n",
    "\n",
    "for level in net_levels.index:\n",
    "    if base_vol > hor_vol.shift(1).loc[level,'vol']: # vol > vol_at_prev_level => VAL bond     \n",
    "        net_levels.loc[level,'VALH'] = 'l'\n",
    "    if base_vol > hor_vol.shift(-1).loc[level,'vol']: # vol > vol_at_next_level => VAH bond\n",
    "        net_levels.loc[level,'VALH'] = 'h'\n",
    "    if base_vol > hor_vol.shift(1).loc[level,'vol'] and base_vol > hor_vol.shift(-1).loc[level,'vol']: # VAB Both-side bond\n",
    "        net_levels.loc[level,'VALH'] = 'b'    \n",
    "net_levels = net_levels.drop(net_levels[net_levels.VALH =='n'].index)\n",
    "        \n",
    "print('Base volume',base_vol)\n",
    "print(net_levels)\n",
    "\n",
    "# calculating ATR \n",
    "atr = pandas.DataFrame(index=ohlc.index, columns=['max_min','max_cls','min_cls'])\n",
    "atr['max_min'] = abs (ohlc.loc[:,'prc'].loc[:,'max'] - ohlc.loc[:,'prc'].loc[:,'min'])\n",
    "atr['max_cls'] = abs (ohlc.loc[:,'prc'].loc[:,'max'] - ohlc.loc[:,'prc'].loc[:,'last'].shift())\n",
    "atr['min_cls'] = abs (ohlc.loc[:,'prc'].loc[:,'min'] - ohlc.loc[:,'prc'].loc[:,'last'].shift())\n",
    "ohlc['ATR'] = atr[['max_min', 'max_cls', 'min_cls']].max(axis=1)\n",
    "#print(ohlc)\n",
    "\n",
    "# smoothing it by EWM, a - adjustable\n",
    "a = 0.9\n",
    "ohlc['smATR'] = ohlc['ATR'].ewm(com=a/(1.0-a),adjust=False,ignore_na=False).mean()\n"
   ]
  },
  {
   "cell_type": "markdown",
   "metadata": {},
   "source": [
    "Plotting result"
   ]
  },
  {
   "cell_type": "code",
   "execution_count": 11,
   "metadata": {},
   "outputs": [
    {
     "name": "stdout",
     "output_type": "stream",
     "text": [
      "This is the format of your plot grid:\n",
      "[ (1,1) x1,y1 ]  [ (1,2) x2,y1 ]\n",
      "\n"
     ]
    },
    {
     "data": {
      "text/html": [
       "<iframe id=\"igraph\" scrolling=\"no\" style=\"border:none;\" seamless=\"seamless\" src=\"https://plot.ly/~styrnov/2.embed\" height=\"800px\" width=\"100%\"></iframe>"
      ],
      "text/plain": [
       "<plotly.tools.PlotlyDisplay object>"
      ]
     },
     "execution_count": 11,
     "metadata": {},
     "output_type": "execute_result"
    }
   ],
   "source": [
    "from plotly import tools\n",
    "import plotly.plotly as py\n",
    "import plotly.graph_objs as go\n",
    "\n",
    "trace1 = go.Bar(x=hor_vol['vol'], y=hor_vol.index, orientation = 'h')\n",
    "\n",
    "trace2 = go.Candlestick(open = ohlc.loc[:,'prc'].loc[:,'first'], \n",
    "                        high = ohlc.loc[:,'prc'].loc[:,'max'], \n",
    "                        low = ohlc.loc[:,'prc'].loc[:,'min'], \n",
    "                        close = ohlc.loc[:,'prc'].loc[:,'last'],\n",
    "                        x = ohlc.index)\n",
    "trace3 = go.Scatter(x = ohlc.index, y = ohlc['ATR']+hor_vol.index.min()-ohlc['ATR'].max())\n",
    "trace4 = go.Scatter(x = ohlc.index, y = ohlc['smATR']+hor_vol.index.min()-ohlc['ATR'].max())\n",
    "\n",
    "# formatting subplots\n",
    "fig = tools.make_subplots(rows=1, cols=2, shared_yaxes=True)\n",
    "fig.append_trace(trace1, 1, 1)\n",
    "fig.append_trace(trace2, 1, 2)\n",
    "fig.append_trace(trace3, 1, 2)\n",
    "fig.append_trace(trace4, 1, 2)\n",
    "\n",
    "fig['layout'].update(showlegend=False, xaxis=dict(rangeslider=dict(visible = False),showline=True,domain=[0, 0.3]), \n",
    "                     xaxis2=dict(showgrid=True,showline=True,domain=[0.3, 1]), yaxis=dict(showgrid=True), height=800)\n",
    "\n",
    "# adding net levels on candlestick\n",
    "fig['layout']['shapes'].append(  {\n",
    "                            'xref':'x1', 'yref':'y1',\n",
    "                            'type': 'line',\n",
    "                            'x0': base_vol, 'y0': hor_vol.index.min(), \n",
    "                            'x1': base_vol, 'y1': hor_vol.index.max(),\n",
    "                            'line': {\n",
    "                                'color': 'rgb(55, 55, 55)',\n",
    "                                'width': 1,\n",
    "                                'dash': 'dot'\n",
    "                            }\n",
    "                        })\n",
    "\n",
    "# adding net levels on candlestick\n",
    "level_colors = {\n",
    "    'h' : 'rgb(55, 255, 55)',\n",
    "    'l' : 'rgb(255, 55, 55)',\n",
    "    'b' : 'rgb(55, 55, 255)',\n",
    "    'n' : 'rgb(55, 55, 55)',\n",
    "}\n",
    "\n",
    "for level in net_levels.index.values:    \n",
    "    fig['layout']['shapes'].append(\n",
    "                            {\n",
    "                                'xref':'x2', 'yref':'y2',\n",
    "                                'type': 'line',\n",
    "                                'x0': ohlc.index.min(), 'y0': level, \n",
    "                                'x1': ohlc.index.max(), 'y1': level,\n",
    "                                'line': {\n",
    "                                    'color': level_colors[net_levels.loc[level,'VALH']],\n",
    "                                    'width': 1,\n",
    "                                    'dash': 'dot'\n",
    "                                }\n",
    "                            })\n",
    "\n",
    "py.iplot(fig, filename='netter')\n",
    "\n",
    "#py.iplot(dict(data=[trace3]), filename='netter_ATR')\n"
   ]
  }
 ],
 "metadata": {
  "kernelspec": {
   "display_name": "Python 3",
   "language": "python",
   "name": "python3"
  },
  "language_info": {
   "codemirror_mode": {
    "name": "ipython",
    "version": 3
   },
   "file_extension": ".py",
   "mimetype": "text/x-python",
   "name": "python",
   "nbconvert_exporter": "python",
   "pygments_lexer": "ipython3",
   "version": "3.6.2"
  }
 },
 "nbformat": 4,
 "nbformat_minor": 2
}
